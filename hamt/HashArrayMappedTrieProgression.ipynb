{
 "cells": [
  {
   "cell_type": "code",
   "execution_count": 1,
   "id": "74adc31c",
   "metadata": {},
   "outputs": [],
   "source": [
    "{-# LANGUAGE GeneralizedNewtypeDeriving #-}\n",
    "{-# LANGUAGE TypeSynonymInstances #-}\n",
    "{-# LANGUAGE FlexibleInstances #-}\n",
    "{-# LANGUAGE RankNTypes #-}\n",
    "\n",
    "\n",
    "import Data.Bits             (Bits (bit, complement, popCount, shiftR, (.&.), (.|.), testBit),\n",
    "                              FiniteBits (finiteBitSize))\n",
    "import Data.ByteArray.Hash   (FnvHash32 (..), fnv1Hash)\n",
    "import Data.ByteString.Char8 (pack)\n",
    "import Data.Char             (intToDigit)\n",
    "import Data.Semigroup        ((<>))\n",
    "import Data.Vector           (Vector, drop, singleton, take, replicate, (!), (//))\n",
    "import Data.Word             (Word16, Word32)\n",
    "import Numeric               (showIntAtBase)\n",
    "import Prelude               hiding (drop, lookup, take, replicate)\n",
    "import qualified             Prelude\n",
    "import System.TimeIt         (timeIt)\n",
    "import Text.Show.Pretty      (pPrint)"
   ]
  },
  {
   "cell_type": "code",
   "execution_count": 2,
   "id": "outside-alexander",
   "metadata": {},
   "outputs": [],
   "source": [
    "import IHaskell.Display.Graphviz\n",
    "import Control.Monad.Trans.State.Strict\n",
    "import Control.Monad.Trans.Writer.CPS\n",
    "import Control.Monad.Trans.Class\n",
    "import qualified Data.Vector as Vector\n",
    "import Data.List (intercalate, intersperse, foldl')"
   ]
  },
  {
   "cell_type": "code",
   "execution_count": 3,
   "id": "0aae9389",
   "metadata": {},
   "outputs": [],
   "source": [
    "getFreshId :: State Int Int\n",
    "getFreshId = do\n",
    "    currentId <- get\n",
    "    put (currentId+1)\n",
    "    pure currentId\n",
    "\n",
    "escape = concatMap escaper\n",
    "    where\n",
    "        escaper :: Char -> String\n",
    "        escaper c = case c of\n",
    "            '\"'  -> \"\\\\\\\"\"\n",
    "            '\\\\' -> \"\\\\\\\\\"\n",
    "            _    -> [c]\n",
    "\n",
    "makeDotLines :: [String] -> String\n",
    "makeDotLines = concatMap (++ \";\\n\")\n",
    "\n",
    "preamble = unlines\n",
    "    [ \"digraph {\"\n",
    "    , \"node [shape=record];\"\n",
    "    , \"splines=false;\"\n",
    "    , \"ranksep=2;\"\n",
    "    , \"nodesep=1;\"\n",
    "    ]\n",
    "postamble = unlines [\"}\"]\n",
    "\n",
    "makeDot :: String -> String\n",
    "makeDot str = preamble ++ str ++ postamble"
   ]
  },
  {
   "cell_type": "code",
   "execution_count": 4,
   "id": "drawn-spiritual",
   "metadata": {},
   "outputs": [],
   "source": [
    "newtype Binary a = Binary a\n",
    "    deriving (Enum, Ord, Real, Integral, Eq, Num, Bits, FiniteBits)\n",
    "\n",
    "instance (FiniteBits a, Show a, Integral a) => Show (Binary a) where\n",
    "    show (Binary n) = let\n",
    "        str = showIntAtBase 2 intToDigit n \"\"\n",
    "        size = finiteBitSize n\n",
    "        in Prelude.replicate (size - length str) '0' <> str"
   ]
  },
  {
   "cell_type": "code",
   "execution_count": 5,
   "id": "light-carolina",
   "metadata": {},
   "outputs": [],
   "source": [
    "type Hash = Binary Word32\n",
    "\n",
    "class Hashable a where\n",
    "    hash :: a -> Hash"
   ]
  },
  {
   "cell_type": "code",
   "execution_count": 6,
   "id": "swiss-metro",
   "metadata": {},
   "outputs": [],
   "source": [
    "instance Hashable String where\n",
    "    hash s = let\n",
    "        FnvHash32 h = fnv1Hash (pack s)\n",
    "        in Binary h\n",
    "\n",
    "instance Hashable Int where\n",
    "    hash int = Binary (fromIntegral int)"
   ]
  },
  {
   "cell_type": "code",
   "execution_count": 7,
   "id": "innovative-bidder",
   "metadata": {},
   "outputs": [],
   "source": [
    "class Mapping mapping where\n",
    "    empty :: forall k v. mapping k v\n",
    "    lookup :: forall k v. (Hashable k) => k -> mapping k v -> Maybe v\n",
    "    insert :: forall k v. (Hashable k) => k -> v -> mapping k v -> mapping k v"
   ]
  },
  {
   "cell_type": "code",
   "execution_count": 8,
   "id": "english-ultimate",
   "metadata": {},
   "outputs": [],
   "source": [
    "fib' :: (Mapping m) => m Int Integer -> Int -> (Integer, m Int Integer)\n",
    "fib' table 0 = (1, insert 0 1 table)\n",
    "fib' table 1 = (1, insert 1 1 table)\n",
    "fib' table n = case lookup n table of\n",
    "    Just i -> (i, table)\n",
    "    Nothing -> let\n",
    "        (i1, table')  = fib' table  (n-1)\n",
    "        (i2, table'') = fib' table' (n-2)\n",
    "        in (i1 + i2, insert n (i1 + i2) table'')"
   ]
  },
  {
   "cell_type": "code",
   "execution_count": 9,
   "id": "active-aberdeen",
   "metadata": {},
   "outputs": [],
   "source": [
    "data HashBinaryMappedTrie key value\n",
    "    = HashBinaryMappedTrieNone\n",
    "    | HashBinaryMappedTrieLeaf Hash key value\n",
    "    | HashBinaryMappedTrieNode\n",
    "        (HashBinaryMappedTrie key value)\n",
    "        (HashBinaryMappedTrie key value)\n",
    "    deriving (Eq, Show)"
   ]
  },
  {
   "cell_type": "code",
   "execution_count": 10,
   "id": "according-sewing",
   "metadata": {},
   "outputs": [],
   "source": [
    "emptyHashBinaryMappedTrie = HashBinaryMappedTrieNone"
   ]
  },
  {
   "cell_type": "code",
   "execution_count": 11,
   "id": "lasting-shopping",
   "metadata": {},
   "outputs": [],
   "source": [
    "insertHashBinaryMappedTrie :: (Hashable key) => key -> value -> HashBinaryMappedTrie key value -> HashBinaryMappedTrie key value\n",
    "insertHashBinaryMappedTrie key = insertHashBinaryMappedTrieHelper 0 (hash key) key\n",
    "\n",
    "insertHashBinaryMappedTrieHelper :: Int -> Hash -> key -> value -> HashBinaryMappedTrie key value -> HashBinaryMappedTrie key value\n",
    "insertHashBinaryMappedTrieHelper depth hash key value HashBinaryMappedTrieNone =\n",
    "    HashBinaryMappedTrieLeaf hash key value\n",
    "insertHashBinaryMappedTrieHelper depth hash key value (HashBinaryMappedTrieLeaf leafHash leafKey leafValue)\n",
    "    | hash == leafHash = HashBinaryMappedTrieLeaf hash key value\n",
    "    | otherwise = let\n",
    "        emptyNode = HashBinaryMappedTrieNode HashBinaryMappedTrieNone HashBinaryMappedTrieNone\n",
    "        leafInsertedNode = insertHashBinaryMappedTrieHelper depth leafHash leafKey leafValue emptyNode\n",
    "        in insertHashBinaryMappedTrieHelper depth hash key value leafInsertedNode\n",
    "insertHashBinaryMappedTrieHelper depth hash key value (HashBinaryMappedTrieNode left right) = let\n",
    "    goRight = testBit hash depth\n",
    "    depth' = depth + 1\n",
    "    in if goRight\n",
    "        then HashBinaryMappedTrieNode left (insertHashBinaryMappedTrieHelper depth' hash key value right)\n",
    "        else HashBinaryMappedTrieNode (insertHashBinaryMappedTrieHelper depth' hash key value left) right"
   ]
  },
  {
   "cell_type": "code",
   "execution_count": 12,
   "id": "color-truck",
   "metadata": {},
   "outputs": [],
   "source": [
    "lookupHashBinaryMappedTrie :: (Hashable key) => key -> HashBinaryMappedTrie key value -> Maybe value\n",
    "lookupHashBinaryMappedTrie key = lookupHashBinaryMappedTrieHelper 0 (hash key) key\n",
    "\n",
    "lookupHashBinaryMappedTrieHelper :: Int -> Hash -> key -> HashBinaryMappedTrie key value -> Maybe value\n",
    "lookupHashBinaryMappedTrieHelper depth hash key HashBinaryMappedTrieNone = Nothing\n",
    "lookupHashBinaryMappedTrieHelper depth hash key (HashBinaryMappedTrieLeaf leafHash leafKey leafValue)\n",
    "    | hash == leafHash = Just leafValue\n",
    "    | otherwise = Nothing\n",
    "lookupHashBinaryMappedTrieHelper depth hash key (HashBinaryMappedTrieNode left right) = let\n",
    "    goRight = testBit hash depth\n",
    "    depth' = depth + 1\n",
    "    in if goRight\n",
    "        then lookupHashBinaryMappedTrieHelper depth' hash key right\n",
    "        else lookupHashBinaryMappedTrieHelper depth' hash key left"
   ]
  },
  {
   "cell_type": "code",
   "execution_count": 13,
   "id": "associate-plaintiff",
   "metadata": {},
   "outputs": [],
   "source": [
    "instance Mapping HashBinaryMappedTrie where\n",
    "    empty = emptyHashBinaryMappedTrie\n",
    "    insert = insertHashBinaryMappedTrie\n",
    "    lookup = lookupHashBinaryMappedTrie"
   ]
  },
  {
   "cell_type": "code",
   "execution_count": 14,
   "id": "5edf8cf6",
   "metadata": {},
   "outputs": [],
   "source": [
    "data HashBinaryMappedTrieGraphvizNode\n",
    "    = HashBinaryMappedTrieGraphvizNode\n",
    "        { hashBinaryMappedTrieGraphvizNodeId :: Int\n",
    "        , hashBinaryMappedTrieGraphvizLeftChildId :: Int\n",
    "        , hashBinaryMappedTrieGraphvizRightChildId :: Int\n",
    "        }\n",
    "    | HashBinaryMappedTrieGraphvizLeafNode\n",
    "        { hashBinaryMappedTrieGraphvizLeafNodeId :: Int\n",
    "        , hashBinaryMappedTriGraphvizeLeafHash :: String\n",
    "        , hashBinaryMappedTrieGraphvizLeafKey :: String\n",
    "        , hashBinaryMappedTrieGraphvizLeafNodeValue :: String\n",
    "        }\n",
    "    deriving (Eq, Show)\n",
    "\n",
    "numberHBMT :: (Show k, Show v) => HashBinaryMappedTrie k v -> WriterT [HashBinaryMappedTrieGraphvizNode] (State Int) Int\n",
    "numberHBMT HashBinaryMappedTrieNone = do\n",
    "    tell mempty\n",
    "    pure 0\n",
    "numberHBMT (HashBinaryMappedTrieLeaf h k v) = do\n",
    "    i <- lift getFreshId\n",
    "    tell [HashBinaryMappedTrieGraphvizLeafNode i (show h) (show k) (show v)]\n",
    "    pure i\n",
    "numberHBMT (HashBinaryMappedTrieNode l r) = do\n",
    "    i <- lift getFreshId\n",
    "    leftChildId <- numberHBMT l\n",
    "    rightChildId <- numberHBMT r\n",
    "    tell [HashBinaryMappedTrieGraphvizNode i leftChildId rightChildId]\n",
    "    pure i\n",
    "\n",
    "nodeLinesHBMT :: HashBinaryMappedTrieGraphvizNode -> [String]\n",
    "nodeLinesHBMT (HashBinaryMappedTrieGraphvizLeafNode i h k v) = let\n",
    "    label = intercalate \"|\" [h, k, v]\n",
    "    line = (\"n\" ++ show i) ++ \" \" ++ \"[label=\\\"\" ++ escape label ++ \"\\\"]\"\n",
    "    in [line]\n",
    "nodeLinesHBMT (HashBinaryMappedTrieGraphvizNode i l r) = let\n",
    "    edges = map (\\index -> \"n\" ++ show i ++ \" -> \" ++ \"n\" ++ show index) [l, r]\n",
    "    label = \"n\" ++ show i ++ \" \" ++ \"[label=\\\"\\\"]\"\n",
    "    in label:edges\n",
    "\n",
    "dotFromHBMT :: (Show k, Show v) => HashBinaryMappedTrie k v -> String\n",
    "dotFromHBMT = makeDot . makeDotLines. concatMap nodeLinesHBMT . flip evalState 0 . execWriterT . numberHBMT"
   ]
  },
  {
   "cell_type": "code",
   "execution_count": 15,
   "id": "e6eccc62",
   "metadata": {},
   "outputs": [],
   "source": [
    "dot $ dotFromHBMT $ snd $ fib' emptyHashBinaryMappedTrie 8"
   ]
  },
  {
   "cell_type": "code",
   "execution_count": 16,
   "id": "hawaiian-figure",
   "metadata": {},
   "outputs": [],
   "source": [
    "data Hash2ArrayMappedTrie key value\n",
    "    = Hash2ArrayMappedTrieNone\n",
    "    | Hash2ArrayMappedTrieLeaf Hash key value\n",
    "    | Hash2ArrayMappedTrieNode (Vector (Hash2ArrayMappedTrie key value))\n",
    "    deriving (Eq, Show)"
   ]
  },
  {
   "cell_type": "code",
   "execution_count": 17,
   "id": "viral-description",
   "metadata": {},
   "outputs": [],
   "source": [
    "emptyHash2ArrayMappedTrie = Hash2ArrayMappedTrieNone"
   ]
  },
  {
   "cell_type": "code",
   "execution_count": 18,
   "id": "derived-given",
   "metadata": {},
   "outputs": [],
   "source": [
    "insertHash2ArrayMappedTrie :: (Hashable key) => key -> value -> Hash2ArrayMappedTrie key value -> Hash2ArrayMappedTrie key value\n",
    "insertHash2ArrayMappedTrie key = insertHash2ArrayMappedTrieHelper 0 (hash key) key\n",
    "\n",
    "insertHash2ArrayMappedTrieHelper :: Int -> Hash -> key -> value -> Hash2ArrayMappedTrie key value -> Hash2ArrayMappedTrie key value\n",
    "insertHash2ArrayMappedTrieHelper depth hash key value Hash2ArrayMappedTrieNone =\n",
    "    Hash2ArrayMappedTrieLeaf hash key value\n",
    "insertHash2ArrayMappedTrieHelper depth hash key value (Hash2ArrayMappedTrieLeaf leafHash leafKey leafValue)\n",
    "    | hash == leafHash = Hash2ArrayMappedTrieLeaf hash key value\n",
    "    | otherwise = let\n",
    "        emptyNode = Hash2ArrayMappedTrieNode (replicate 2 Hash2ArrayMappedTrieNone)\n",
    "        leafInsertedNode = insertHash2ArrayMappedTrieHelper depth leafHash leafKey leafValue emptyNode\n",
    "        in insertHash2ArrayMappedTrieHelper depth hash key value leafInsertedNode\n",
    "insertHash2ArrayMappedTrieHelper depth hash key value (Hash2ArrayMappedTrieNode children) = let\n",
    "    goRight = testBit hash depth\n",
    "    depth' = depth + 1\n",
    "    in if goRight\n",
    "        then Hash2ArrayMappedTrieNode $ children // [(1, insertHash2ArrayMappedTrieHelper depth' hash key value (children ! 1))]\n",
    "        else Hash2ArrayMappedTrieNode $ children // [(0, insertHash2ArrayMappedTrieHelper depth' hash key value (children ! 0))]"
   ]
  },
  {
   "cell_type": "code",
   "execution_count": 19,
   "id": "detailed-allocation",
   "metadata": {},
   "outputs": [],
   "source": [
    "lookupHash2ArrayMappedTrie :: (Hashable key) => key -> Hash2ArrayMappedTrie key value -> Maybe value\n",
    "lookupHash2ArrayMappedTrie key = lookupHash2ArrayMappedTrieHelper 0 (hash key) key\n",
    "\n",
    "lookupHash2ArrayMappedTrieHelper :: Int -> Hash -> key -> Hash2ArrayMappedTrie key value -> Maybe value\n",
    "lookupHash2ArrayMappedTrieHelper depth hash key Hash2ArrayMappedTrieNone = Nothing\n",
    "lookupHash2ArrayMappedTrieHelper depth hash key (Hash2ArrayMappedTrieLeaf leafHash leafKey leafValue)\n",
    "    | hash == leafHash = Just leafValue\n",
    "    | otherwise = Nothing\n",
    "lookupHash2ArrayMappedTrieHelper depth hash key (Hash2ArrayMappedTrieNode children) = let\n",
    "    goRight = testBit hash depth\n",
    "    depth' = depth + 1\n",
    "    in if goRight\n",
    "        then lookupHash2ArrayMappedTrieHelper depth' hash key (children ! 1)\n",
    "        else lookupHash2ArrayMappedTrieHelper depth' hash key (children ! 0)"
   ]
  },
  {
   "cell_type": "code",
   "execution_count": 20,
   "id": "typical-pharmacology",
   "metadata": {},
   "outputs": [],
   "source": [
    "instance Mapping Hash2ArrayMappedTrie where\n",
    "    empty = emptyHash2ArrayMappedTrie\n",
    "    insert = insertHash2ArrayMappedTrie\n",
    "    lookup = lookupHash2ArrayMappedTrie"
   ]
  },
  {
   "cell_type": "code",
   "execution_count": 21,
   "id": "b6a9369b",
   "metadata": {},
   "outputs": [],
   "source": [
    "data Hash2ArrayMappedTrieGraphvizNode\n",
    "    = Hash2ArrayMappedTrieGraphvizNode\n",
    "        { hash2ArrayMappedTrieGraphvizNodeId :: Int\n",
    "        , hash2ArrayMappedTrieGraphvizFields :: [Int]\n",
    "        }\n",
    "    | Hash2ArrayMappedTrieGraphvizLeafNode\n",
    "        { hash2ArrayMappedTrieGraphvizLeafNodeId :: Int\n",
    "        , hash2ArrayMappedTrieGraphvizLeafHash :: String\n",
    "        , hash2ArrayMappedTrieGraphvizLeafKey :: String\n",
    "        , hash2ArrayMappedTrieGraphvizLeafNodeValue :: String\n",
    "        }\n",
    "    deriving (Eq, Show)\n",
    "\n",
    "numberH2AMT :: (Show k, Show v) => Hash2ArrayMappedTrie k v -> WriterT [Hash2ArrayMappedTrieGraphvizNode] (State Int) Int\n",
    "numberH2AMT Hash2ArrayMappedTrieNone = do\n",
    "    tell mempty\n",
    "    pure 0\n",
    "numberH2AMT (Hash2ArrayMappedTrieLeaf h k v) = do\n",
    "    i <- lift getFreshId\n",
    "    tell [Hash2ArrayMappedTrieGraphvizLeafNode i (show h) (show k) (show v)]\n",
    "    pure i\n",
    "numberH2AMT (Hash2ArrayMappedTrieNode hs) = do\n",
    "    i <- lift getFreshId\n",
    "    numbered <- Vector.toList <$> traverse numberH2AMT hs\n",
    "    tell [Hash2ArrayMappedTrieGraphvizNode i numbered]\n",
    "    pure i\n",
    "\n",
    "nodeLinesH2AMT :: Hash2ArrayMappedTrieGraphvizNode -> [String]\n",
    "nodeLinesH2AMT (Hash2ArrayMappedTrieGraphvizLeafNode i h k v) = let\n",
    "    label = intercalate \"|\" [h, k, v]\n",
    "    line = (\"n\" ++ show i) ++ \" \" ++ \"[label=\\\"\" ++ escape label ++ \"\\\"]\"\n",
    "    in [line]\n",
    "nodeLinesH2AMT (Hash2ArrayMappedTrieGraphvizNode i fs) = let\n",
    "    indices = Prelude.take (length fs) [0..]\n",
    "    pairs = zip indices fs\n",
    "    edges = flip map pairs $ \\(f,t) -> \"n\" ++ show i ++ \":\" ++ \"f\" ++ show f ++ \" -> \" ++ \"n\" ++ show t\n",
    "    fields = flip map indices $ \\ix -> \"<f\" ++ show ix ++ \">\"\n",
    "    label = intercalate \"|\" fields\n",
    "    line = (\"n\" ++ show i) ++ \" \" ++ \"[label=\\\"\" ++ escape label ++ \"\\\"]\"\n",
    "    in (line:edges)\n",
    "\n",
    "dotFromH2AMT :: (Show k, Show v) => Hash2ArrayMappedTrie k v -> String\n",
    "dotFromH2AMT = makeDot . makeDotLines. concatMap nodeLinesH2AMT . flip evalState 0 . execWriterT . numberH2AMT"
   ]
  },
  {
   "cell_type": "code",
   "execution_count": 22,
   "id": "eb28edf6",
   "metadata": {},
   "outputs": [],
   "source": [
    "dot $ dotFromH2AMT $ snd $ fib' emptyHash2ArrayMappedTrie 8"
   ]
  },
  {
   "cell_type": "code",
   "execution_count": 23,
   "id": "compatible-story",
   "metadata": {},
   "outputs": [],
   "source": [
    "data HashArrayMappedTrieSpacious key value\n",
    "    = HashArrayMappedTrieSpaciousNone\n",
    "    | HashArrayMappedTrieSpaciousLeaf Hash key value\n",
    "    | HashArrayMappedTrieSpaciousNode (Vector (HashArrayMappedTrieSpacious key value))\n",
    "    deriving (Eq, Show)"
   ]
  },
  {
   "cell_type": "code",
   "execution_count": 24,
   "id": "stuck-blowing",
   "metadata": {},
   "outputs": [],
   "source": [
    "emptyHashArrayMappedTrieSpacious = HashArrayMappedTrieSpaciousNone"
   ]
  },
  {
   "cell_type": "code",
   "execution_count": 25,
   "id": "black-confirmation",
   "metadata": {},
   "outputs": [],
   "source": [
    "hashFragmentLength :: Int\n",
    "hashFragmentLength = 4\n",
    "\n",
    "hashMask = bit hashFragmentLength - 1 -- 0b1111"
   ]
  },
  {
   "cell_type": "code",
   "execution_count": 26,
   "id": "cooked-uzbekistan",
   "metadata": {},
   "outputs": [],
   "source": [
    "insertHashArrayMappedTrieSpacious :: (Hashable key) => key -> value -> HashArrayMappedTrieSpacious key value -> HashArrayMappedTrieSpacious key value\n",
    "insertHashArrayMappedTrieSpacious key = insertHashArrayMappedTrieSpaciousHelper 0 (hash key) key\n",
    "\n",
    "insertHashArrayMappedTrieSpaciousHelper :: Int -> Hash -> key -> value -> HashArrayMappedTrieSpacious key value -> HashArrayMappedTrieSpacious key value\n",
    "insertHashArrayMappedTrieSpaciousHelper depth hash key value HashArrayMappedTrieSpaciousNone =\n",
    "    HashArrayMappedTrieSpaciousLeaf hash key value\n",
    "insertHashArrayMappedTrieSpaciousHelper depth hash key value (HashArrayMappedTrieSpaciousLeaf leafHash leafKey leafValue)\n",
    "    | hash == leafHash = HashArrayMappedTrieSpaciousLeaf hash key value\n",
    "    | otherwise = let\n",
    "        emptyNode = HashArrayMappedTrieSpaciousNode (replicate (2^hashFragmentLength) HashArrayMappedTrieSpaciousNone)\n",
    "        leafInsertedNode = insertHashArrayMappedTrieSpaciousHelper depth leafHash leafKey leafValue emptyNode\n",
    "        in insertHashArrayMappedTrieSpaciousHelper depth hash key value leafInsertedNode\n",
    "insertHashArrayMappedTrieSpaciousHelper depth hash key value (HashArrayMappedTrieSpaciousNode children) = let\n",
    "    hashFragment = (hash `shiftR` depth) .&. hashMask\n",
    "    index = fromIntegral hashFragment\n",
    "    depth' = depth + hashFragmentLength\n",
    "    in HashArrayMappedTrieSpaciousNode\n",
    "        (children // [(index, insertHashArrayMappedTrieSpaciousHelper depth' hash key value (children ! index))])"
   ]
  },
  {
   "cell_type": "code",
   "execution_count": 27,
   "id": "pregnant-lounge",
   "metadata": {},
   "outputs": [],
   "source": [
    "lookupHashArrayMappedTrieSpacious :: (Hashable key) => key -> HashArrayMappedTrieSpacious key value -> Maybe value\n",
    "lookupHashArrayMappedTrieSpacious key = lookupHashArrayMappedTrieSpaciousHelper 0 (hash key) key\n",
    "\n",
    "lookupHashArrayMappedTrieSpaciousHelper :: Int -> Hash -> key -> HashArrayMappedTrieSpacious key value -> Maybe value\n",
    "lookupHashArrayMappedTrieSpaciousHelper depth hash key HashArrayMappedTrieSpaciousNone = Nothing\n",
    "lookupHashArrayMappedTrieSpaciousHelper depth hash key (HashArrayMappedTrieSpaciousLeaf leafHash leafKey leafValue)\n",
    "    | hash == leafHash = Just leafValue\n",
    "    | otherwise = Nothing\n",
    "lookupHashArrayMappedTrieSpaciousHelper depth hash key (HashArrayMappedTrieSpaciousNode children) = let\n",
    "    hashFragment = (hash `shiftR` depth) .&. hashMask\n",
    "    index = fromIntegral hashFragment\n",
    "    depth' = depth + hashFragmentLength\n",
    "    in lookupHashArrayMappedTrieSpaciousHelper depth' hash key (children ! index)"
   ]
  },
  {
   "cell_type": "code",
   "execution_count": 28,
   "id": "weird-stuart",
   "metadata": {},
   "outputs": [],
   "source": [
    "instance Mapping HashArrayMappedTrieSpacious where\n",
    "    empty = emptyHashArrayMappedTrieSpacious\n",
    "    insert = insertHashArrayMappedTrieSpacious\n",
    "    lookup = lookupHashArrayMappedTrieSpacious"
   ]
  },
  {
   "cell_type": "code",
   "execution_count": 29,
   "id": "b4172bac",
   "metadata": {},
   "outputs": [],
   "source": [
    "data HashArrayMappedTrieSpaciousGraphvizNode\n",
    "    = HashArrayMappedTrieSpaciousGraphvizNode\n",
    "        { hashArrayMappedTrieSpaciousGraphvizNodeId :: Int\n",
    "        , hashArrayMappedTrieSpaciousGraphvizFields :: [Int]\n",
    "        }\n",
    "    | HashArrayMappedTrieSpaciousGraphvizLeafNode\n",
    "        { hashArrayMappedTrieSpaciousGraphvizLeafNodeId :: Int\n",
    "        , hashArrayMappedTrieSpaciousGraphvizLeafHash :: String\n",
    "        , hashArrayMappedTrieSpaciousGraphvizLeafKey :: String\n",
    "        , hashArrayMappedTrieSpaciousGraphvizLeafNodeValue :: String\n",
    "        }\n",
    "    deriving (Eq, Show)\n",
    "\n",
    "numberHAMTS :: (Show k, Show v) => HashArrayMappedTrieSpacious k v -> WriterT [HashArrayMappedTrieSpaciousGraphvizNode] (State Int) Int\n",
    "numberHAMTS HashArrayMappedTrieSpaciousNone = do\n",
    "    tell mempty\n",
    "    pure 0\n",
    "numberHAMTS (HashArrayMappedTrieSpaciousLeaf h k v) = do\n",
    "    i <- lift getFreshId\n",
    "    tell [HashArrayMappedTrieSpaciousGraphvizLeafNode i (show h) (show k) (show v)]\n",
    "    pure i\n",
    "numberHAMTS (HashArrayMappedTrieSpaciousNode hs) = do\n",
    "    i <- lift getFreshId\n",
    "    numbered <- Vector.toList <$> traverse numberHAMTS hs\n",
    "    tell [HashArrayMappedTrieSpaciousGraphvizNode i numbered]\n",
    "    pure i\n",
    "\n",
    "nodeLinesHAMTS :: HashArrayMappedTrieSpaciousGraphvizNode -> [String]\n",
    "nodeLinesHAMTS (HashArrayMappedTrieSpaciousGraphvizLeafNode i h k v) = let\n",
    "    label = intercalate \"|\" [h, k, v]\n",
    "    line = (\"n\" ++ show i) ++ \" \" ++ \"[label=\\\"\" ++ escape label ++ \"\\\"]\"\n",
    "    in [line]\n",
    "nodeLinesHAMTS (HashArrayMappedTrieSpaciousGraphvizNode i fs) = let\n",
    "    indices = Prelude.take (length fs) [0..]\n",
    "    pairs = filter (\\(_,i) -> i /= 0) $ zip indices fs\n",
    "    edges = flip map pairs $ \\(f,t) -> \"n\" ++ show i ++ \":\" ++ \"f\" ++ show f ++ \" -> \" ++ \"n\" ++ show t\n",
    "    fields = flip map indices $ \\ix -> \"<f\" ++ show ix ++ \">\"\n",
    "    label = intercalate \"|\" fields\n",
    "    line = (\"n\" ++ show i) ++ \" \" ++ \"[label=\\\"\" ++ escape label ++ \"\\\"]\"\n",
    "    in (line:edges)\n",
    "\n",
    "dotFromHAMTS :: (Show k, Show v) => HashArrayMappedTrieSpacious k v -> String\n",
    "dotFromHAMTS = makeDot . makeDotLines. concatMap nodeLinesHAMTS . flip evalState 0 . execWriterT . numberHAMTS"
   ]
  },
  {
   "cell_type": "code",
   "execution_count": 30,
   "id": "b41828c5",
   "metadata": {},
   "outputs": [],
   "source": [
    "dot $ dotFromHAMTS $ snd $ fib' emptyHashArrayMappedTrieSpacious 8"
   ]
  },
  {
   "cell_type": "code",
   "execution_count": 31,
   "id": "documentary-assurance",
   "metadata": {
    "scrolled": false
   },
   "outputs": [],
   "source": [
    "data HashArrayMappedTrie key value\n",
    "    = HashArrayMappedTrieNone\n",
    "    | HashArrayMappedTrieLeaf Hash key value\n",
    "    | HashArrayMappedTrieNode (Binary Word16) (Vector (HashArrayMappedTrie key value))\n",
    "    deriving (Eq, Show)"
   ]
  },
  {
   "cell_type": "code",
   "execution_count": 32,
   "id": "governing-ebony",
   "metadata": {},
   "outputs": [],
   "source": [
    "emptyHashArrayMappedTrie = HashArrayMappedTrieNone"
   ]
  },
  {
   "cell_type": "code",
   "execution_count": 33,
   "id": "worse-turner",
   "metadata": {},
   "outputs": [],
   "source": [
    "insertHashArrayMappedTrie :: (Hashable key) => key -> value -> HashArrayMappedTrie key value -> HashArrayMappedTrie key value\n",
    "insertHashArrayMappedTrie key = insertHashArrayMappedTrieHelper 0 (hash key) key\n",
    "\n",
    "insertHashArrayMappedTrieHelper :: Int -> Hash -> key -> value -> HashArrayMappedTrie key value -> HashArrayMappedTrie key value\n",
    "insertHashArrayMappedTrieHelper depth hash key value HashArrayMappedTrieNone =\n",
    "    HashArrayMappedTrieLeaf hash key value\n",
    "insertHashArrayMappedTrieHelper depth hash key value leaf@(HashArrayMappedTrieLeaf leafHash leafKey leafValue)\n",
    "    | hash == leafHash = HashArrayMappedTrieLeaf hash key value\n",
    "    | otherwise = let\n",
    "        leafHashFragment = (leafHash `shiftR` depth) .&. hashMask\n",
    "        leafBitmap = bit (fromIntegral leafHashFragment)\n",
    "        leafInsertedNode = HashArrayMappedTrieNode leafBitmap (singleton leaf)\n",
    "        in insertHashArrayMappedTrieHelper depth hash key value leafInsertedNode\n",
    "insertHashArrayMappedTrieHelper depth hash key value (HashArrayMappedTrieNode bitmap children) = let\n",
    "    hashFragment = (hash `shiftR` depth) .&. hashMask\n",
    "    elemBitmap = bit (fromIntegral hashFragment)\n",
    "    index = popCount (bitmap .&. (elemBitmap - 1))\n",
    "    depth' = depth + hashFragmentLength\n",
    "    in if elemBitmap .&. bitmap == 0\n",
    "        then let\n",
    "            leaf = HashArrayMappedTrieLeaf hash key value\n",
    "            bitmap' = bitmap .|. elemBitmap\n",
    "            children' = take index children <> singleton leaf <> drop index children\n",
    "            in HashArrayMappedTrieNode bitmap' children'\n",
    "        else let\n",
    "            subtree = children ! index\n",
    "            subtree' = insertHashArrayMappedTrieHelper depth' hash key value subtree\n",
    "            children' = children // [(index, subtree')]\n",
    "            in HashArrayMappedTrieNode bitmap children'"
   ]
  },
  {
   "cell_type": "code",
   "execution_count": 34,
   "id": "peripheral-romania",
   "metadata": {},
   "outputs": [],
   "source": [
    "lookupHashArrayMappedTrie :: (Hashable key) => key -> HashArrayMappedTrie key value -> Maybe value\n",
    "lookupHashArrayMappedTrie key = lookupHashArrayMappedTrieHelper 0 (hash key) key\n",
    "\n",
    "lookupHashArrayMappedTrieHelper :: Int -> Hash -> key -> HashArrayMappedTrie key value -> Maybe value\n",
    "lookupHashArrayMappedTrieHelper depth hash key HashArrayMappedTrieNone = Nothing\n",
    "lookupHashArrayMappedTrieHelper depth hash key (HashArrayMappedTrieLeaf leafHash leafKey leafValue)\n",
    "    | hash == leafHash = Just leafValue\n",
    "    | otherwise = Nothing\n",
    "lookupHashArrayMappedTrieHelper depth hash key (HashArrayMappedTrieNode bitmap children) = let\n",
    "    hashFragment = (hash `shiftR` depth) .&. hashMask\n",
    "    elemBitmap = bit (fromIntegral hashFragment)\n",
    "    index = popCount (bitmap .&. (elemBitmap - 1))\n",
    "    depth' = depth + hashFragmentLength\n",
    "    in if elemBitmap .&. bitmap == 0\n",
    "        then Nothing\n",
    "        else lookupHashArrayMappedTrieHelper depth' hash key (children ! index)"
   ]
  },
  {
   "cell_type": "code",
   "execution_count": 35,
   "id": "endangered-intellectual",
   "metadata": {},
   "outputs": [],
   "source": [
    "instance Mapping HashArrayMappedTrie where\n",
    "    empty = emptyHashArrayMappedTrie\n",
    "    insert = insertHashArrayMappedTrie\n",
    "    lookup = lookupHashArrayMappedTrie"
   ]
  },
  {
   "cell_type": "code",
   "execution_count": 36,
   "id": "prime-meeting",
   "metadata": {},
   "outputs": [],
   "source": [
    "data HashArrayMappedTrieGraphvizNode\n",
    "    = HashArrayMappedTrieGraphvizNode\n",
    "        { hashArrayMappedTrieGraphvizNodeId :: Int\n",
    "        , hashArrayMappedTrieGraphvizBitmap :: String\n",
    "        , hashArrayMappedTrieGraphvizFields :: [Int]\n",
    "        }\n",
    "    | HashArrayMappedTrieGraphvizLeafNode\n",
    "        { hashArrayMappedTrieGraphvizLeafNodeId :: Int\n",
    "        , hashArrayMappedTrieGraphvizLeafHash :: String\n",
    "        , hashArrayMappedTrieGraphvizLeafKey :: String\n",
    "        , hashArrayMappedTrieGraphvizLeafNodeValue :: String\n",
    "        }\n",
    "    deriving (Eq, Show)\n",
    "\n",
    "numberHAMT :: (Show k, Show v) => HashArrayMappedTrie k v -> WriterT [HashArrayMappedTrieGraphvizNode] (State Int) Int\n",
    "numberHAMT HashArrayMappedTrieNone = do\n",
    "    tell mempty\n",
    "    pure 0\n",
    "numberHAMT (HashArrayMappedTrieLeaf h k v) = do\n",
    "    i <- lift getFreshId\n",
    "    tell [HashArrayMappedTrieGraphvizLeafNode i (show h) (show k) (show v)]\n",
    "    pure i\n",
    "numberHAMT (HashArrayMappedTrieNode b hs) = do\n",
    "    i <- lift getFreshId\n",
    "    numbered <- Vector.toList <$> traverse numberHAMT hs\n",
    "    tell [HashArrayMappedTrieGraphvizNode i (show b) numbered]\n",
    "    pure i\n",
    "\n",
    "nodeLinesHAMT :: HashArrayMappedTrieGraphvizNode -> [String]\n",
    "nodeLinesHAMT (HashArrayMappedTrieGraphvizLeafNode i h k v) = let\n",
    "    label = intercalate \"|\" [h, k, v]\n",
    "    line = (\"n\" ++ show i) ++ \" \" ++ \"[label=\\\"\" ++ escape label ++ \"\\\"]\"\n",
    "    in [line]\n",
    "nodeLinesHAMT (HashArrayMappedTrieGraphvizNode i b fs) = let\n",
    "    indices = Prelude.take (length fs) [0..]\n",
    "    pairs = zip indices fs\n",
    "    edges = flip map pairs $ \\(f,t) -> \"n\" ++ show i ++ \":\" ++ \"f\" ++ show f ++ \" -> \" ++ \"n\" ++ show t\n",
    "    fields = flip map indices $ \\ix -> \"<f\" ++ show ix ++ \">\"\n",
    "    label = intercalate \"|\" $ b:fields\n",
    "    line = (\"n\" ++ show i) ++ \" \" ++ \"[label=\\\"\" ++ escape label ++ \"\\\"]\"\n",
    "    in (line:edges)\n",
    "\n",
    "dotFromHAMT :: (Show k, Show v) => HashArrayMappedTrie k v -> String\n",
    "dotFromHAMT = makeDot . makeDotLines. concatMap nodeLinesHAMT . flip evalState 0 . execWriterT . numberHAMT"
   ]
  },
  {
   "cell_type": "code",
   "execution_count": null,
   "id": "095bc5b7",
   "metadata": {},
   "outputs": [],
   "source": [
    "dot $ dotFromHAMT $ snd $ fib' emptyHashArrayMappedTrie 8"
   ]
  }
 ],
 "metadata": {
  "kernelspec": {
   "display_name": "Haskell",
   "language": "haskell",
   "name": "haskell"
  },
  "language_info": {
   "codemirror_mode": "ihaskell",
   "file_extension": ".hs",
   "mimetype": "text/x-haskell",
   "name": "haskell",
   "pygments_lexer": "Haskell",
   "version": "9.2.8"
  }
 },
 "nbformat": 4,
 "nbformat_minor": 5
}
