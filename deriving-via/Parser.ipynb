{
 "cells": [
  {
   "cell_type": "code",
   "execution_count": 1,
   "metadata": {},
   "outputs": [],
   "source": [
    "{-# LANGUAGE DerivingVia #-}\n",
    ":option no-lint"
   ]
  },
  {
   "cell_type": "code",
   "execution_count": 2,
   "metadata": {},
   "outputs": [],
   "source": [
    "import Control.Applicative (Alternative(..))\n",
    "import Control.Monad.Trans.State.Strict\n",
    "import Control.Monad (guard)\n",
    "import Data.Char (isSpace, isDigit, ord)"
   ]
  },
  {
   "cell_type": "code",
   "execution_count": 3,
   "metadata": {},
   "outputs": [],
   "source": [
    "newtype Parser a = Parser { runParser :: String -> [(a, String)] }\n",
    "  deriving (Functor, Applicative, Alternative, Monad) via (StateT String [])"
   ]
  },
  {
   "cell_type": "code",
   "execution_count": 4,
   "metadata": {},
   "outputs": [],
   "source": [
    "anyChar :: Parser Char\n",
    "anyChar = Parser $ \\s -> case s of\n",
    "    []     -> empty\n",
    "    (c:cs) -> pure (c, cs)\n",
    "\n",
    "satisfy :: (Char -> Bool) -> Parser Char\n",
    "satisfy pred = do\n",
    "    c <- anyChar\n",
    "    guard $ pred c\n",
    "    pure c\n",
    "\n",
    "char :: Char -> Parser Char\n",
    "char = satisfy . (==)\n",
    "\n",
    "string :: String -> Parser String\n",
    "string []     = pure []\n",
    "string (c:cs) = (:) <$> char c <*> string cs"
   ]
  },
  {
   "cell_type": "code",
   "execution_count": 5,
   "metadata": {},
   "outputs": [],
   "source": [
    "sepBy :: Parser a -> Parser b -> Parser [a]\n",
    "sepBy p sep = (p `sepBy1` sep) <|> pure []\n",
    "\n",
    "sepBy1 :: Parser a -> Parser b -> Parser [a]\n",
    "sepBy1 p sep = (:) <$> p <*> many (sep *> p)"
   ]
  },
  {
   "cell_type": "code",
   "execution_count": 6,
   "metadata": {},
   "outputs": [],
   "source": [
    "chainl :: Parser a -> Parser (a -> a -> a) -> a -> Parser a\n",
    "chainl p op a = (p `chainl1` op) <|> pure a\n",
    "\n",
    "chainl1 :: Parser a -> Parser (a -> a -> a) -> Parser a\n",
    "chainl1 p op = p >>= rest\n",
    "    where \n",
    "        rest a = (do\n",
    "            f <- op\n",
    "            b <- p\n",
    "            rest (f a b)) <|> pure a\n",
    "\n",
    "chainr :: Parser a -> Parser (a -> a -> a) -> a -> Parser a\n",
    "chainr p op a = (p `chainr1` op) <|> pure a\n",
    "\n",
    "chainr1 :: Parser a -> Parser (a -> a -> a) -> Parser a\n",
    "chainr1 p op = scan\n",
    "    where\n",
    "        scan   = p >>= rest\n",
    "        rest a = (do\n",
    "            f <- op\n",
    "            b <- scan\n",
    "            rest (f a b)) <|> pure a"
   ]
  },
  {
   "cell_type": "code",
   "execution_count": 7,
   "metadata": {},
   "outputs": [],
   "source": [
    "space :: Parser String\n",
    "space = many (satisfy isSpace)\n",
    "\n",
    "token :: Parser a -> Parser a\n",
    "token p = p <* space\n",
    "\n",
    "symbol :: String -> Parser String\n",
    "symbol = token . string\n",
    "\n",
    "apply :: Parser a -> String -> [(a, String)]\n",
    "apply p = runParser (space *> p)"
   ]
  },
  {
   "cell_type": "code",
   "execution_count": 8,
   "metadata": {},
   "outputs": [],
   "source": [
    "expr, term, factor, digit :: Parser Int\n",
    "expr   = term   `chainl1` addop\n",
    "term   = factor `chainl1` mulop\n",
    "factor = digit <|> (symbol \"(\" *> expr <* symbol \")\")\n",
    "digit  = subtract (ord '0') . ord <$> token (satisfy isDigit)\n",
    "\n",
    "addop, mulop :: Parser (Int -> Int -> Int)\n",
    "addop = (symbol \"+\" *> pure (+)) <|> (symbol \"-\" *> pure (-))\n",
    "mulop = (symbol \"*\" *> pure (*)) <|> (symbol \"/\" *> pure (div))"
   ]
  },
  {
   "cell_type": "code",
   "execution_count": 9,
   "metadata": {},
   "outputs": [
    {
     "data": {
      "text/plain": [
       "[(8,\"\"),(3,\"+ 5\"),(3,\" + 5\"),(9,\"/ 3 + 5\"),(9,\" / 3 + 5\")]"
      ]
     },
     "metadata": {},
     "output_type": "display_data"
    }
   ],
   "source": [
    "runParser expr \"(1 + 2 * 4) / 3 + 5\""
   ]
  }
 ],
 "metadata": {
  "kernelspec": {
   "display_name": "Haskell",
   "language": "haskell",
   "name": "haskell"
  },
  "language_info": {
   "codemirror_mode": "ihaskell",
   "file_extension": ".hs",
   "mimetype": "text/x-haskell",
   "name": "haskell",
   "pygments_lexer": "Haskell",
   "version": "9.4.8"
  }
 },
 "nbformat": 4,
 "nbformat_minor": 4
}
