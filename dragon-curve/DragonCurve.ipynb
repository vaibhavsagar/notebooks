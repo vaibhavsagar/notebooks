{
 "cells": [
  {
   "cell_type": "code",
   "execution_count": 1,
   "id": "69541a55-b9ea-42d6-9f83-1abfac377b4c",
   "metadata": {},
   "outputs": [],
   "source": [
    "data Fold = P | V deriving (Eq, Show)\n",
    "\n",
    "opposite :: Fold -> Fold\n",
    "opposite P = V\n",
    "opposite V = P\n",
    "\n",
    "type Pattern = [Fold]\n",
    "\n",
    "mirror :: Pattern -> Pattern\n",
    "mirror = map opposite . reverse"
   ]
  },
  {
   "cell_type": "code",
   "execution_count": null,
   "id": "9e479c99-f0b7-4d48-bcd9-1e08482d6ed2",
   "metadata": {},
   "outputs": [],
   "source": [
    "folds :: Int -> Pattern\n",
    "folds 0 = []\n",
    "folds 1 = [V]\n",
    "folds n = let prev = folds (n-1) in prev ++ [V] ++ mirror prev"
   ]
  },
  {
   "cell_type": "code",
   "execution_count": null,
   "id": "c30143aa-e12f-4d3c-8a02-5d5272ac39cd",
   "metadata": {},
   "outputs": [],
   "source": [
    "flips :: Bool -> Fold\n",
    "flips toFlip = if toFlip then P else V\n",
    "\n",
    "whichFold' :: Bool -> Int -> Int -> Fold\n",
    "whichFold' toFlip numFolds index\n",
    "    | index == middle = flips toFlip\n",
    "    | index >  middle = whichFold' (not toFlip) (numFolds - 1) (len - 1 - index)\n",
    "    | index <  middle = whichFold' toFlip       (numFolds - 1) index\n",
    "    where\n",
    "        len = (2^numFolds)-1\n",
    "        middle = len `div` 2\n",
    "\n",
    "whichFold = whichFold' False"
   ]
  },
  {
   "cell_type": "code",
   "execution_count": null,
   "id": "fa1e027c-ee26-4e32-913d-6c7614e71424",
   "metadata": {},
   "outputs": [
    {
     "data": {
      "text/plain": [
       "[V,V,P,V,V,P,P,V,V,V,P,P,V,P,P]"
      ]
     },
     "metadata": {},
     "output_type": "display_data"
    },
    {
     "data": {
      "text/plain": [
       "[V,V,P,V,V,P,P,V,V,V,P,P,V,P,P]"
      ]
     },
     "metadata": {},
     "output_type": "display_data"
    }
   ],
   "source": [
    "folds 4\n",
    "map (whichFold 4) [0..14]"
   ]
  },
  {
   "cell_type": "code",
   "execution_count": null,
   "id": "fdd245b8-efa5-4bac-8fcb-e123a963c651",
   "metadata": {},
   "outputs": [],
   "source": []
  }
 ],
 "metadata": {
  "kernelspec": {
   "display_name": "Haskell",
   "language": "haskell",
   "name": "haskell"
  },
  "language_info": {
   "codemirror_mode": "ihaskell",
   "file_extension": ".hs",
   "mimetype": "text/x-haskell",
   "name": "haskell",
   "pygments_lexer": "Haskell",
   "version": "9.4.8"
  }
 },
 "nbformat": 4,
 "nbformat_minor": 5
}
