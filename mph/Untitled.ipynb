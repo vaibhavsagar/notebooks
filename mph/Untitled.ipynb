{
 "cells": [
  {
   "cell_type": "code",
   "execution_count": null,
   "metadata": {},
   "outputs": [],
   "source": [
    "import Data.List\n",
    "import Data.Hashable\n",
    "import Data.Function (on)\n",
    "import qualified Data.Map.Strict as Map"
   ]
  },
  {
   "cell_type": "code",
   "execution_count": null,
   "metadata": {},
   "outputs": [],
   "source": [
    "formatArray arr = let\n",
    "    l = length arr\n",
    "    in unlines\n",
    "    [ \" \" <> concat (replicate l \"↓ \")\n",
    "    , \"┌\" <> concat (replicate (l-1) \"─┬\") <> \"─┐\"\n",
    "    , \"│\" <> intercalate \"│\" (map show arr) <> \"│\" \n",
    "    , \"└\" <> concat (replicate (l-1) \"─┴\") <> \"─┘\"\n",
    "    ]\n",
    "\n",
    "putStrLn $ formatArray [0,1,3,4,5,2,4,5,2,4,5,2]"
   ]
  },
  {
   "cell_type": "code",
   "execution_count": null,
   "metadata": {},
   "outputs": [],
   "source": [
    "drawArrows len level = let\n",
    "    ls = len - level\n",
    "    in \" \" <> concat (replicate ls \"│ \") <> \"╭\" <> concat (replicate level \"──\")\n",
    "\n",
    "putStrLn $ drawArrows 12 12\n",
    "putStrLn $ drawArrows 12 11\n",
    "putStrLn $ drawArrows 12 10\n",
    "putStrLn $ drawArrows 12 9\n",
    "putStrLn $ drawArrows 12 8\n",
    "putStrLn $ drawArrows 12 7\n",
    "putStrLn $ drawArrows 12 6\n",
    "putStrLn $ drawArrows 12 5\n",
    "putStrLn $ drawArrows 12 4\n",
    "putStrLn $ drawArrows 12 3\n",
    "putStrLn $ drawArrows 12 2\n",
    "putStrLn $ drawArrows 12 1\n",
    "putStrLn $ formatArray [0,1,3,4,5,2,4,5,2,4,5,2]\n",
    "\n",
    "keys =\n",
    "    [ \"Bondi\"\n",
    "    , \"Tamarama\"\n",
    "    , \"Bronte\"\n",
    "    , \"Clovelly\"\n",
    "    , \"Gordons Bay\"\n",
    "    , \"Coogee\"\n",
    "    ]"
   ]
  },
  {
   "cell_type": "code",
   "execution_count": null,
   "metadata": {},
   "outputs": [],
   "source": [
    "Map.fromAscListWith (++) $ sortOn fst $ zip (map (\\k -> hashWithSalt 0 k `mod` 6) keys) (map (:[]) keys)"
   ]
  }
 ],
 "metadata": {
  "kernelspec": {
   "display_name": "Haskell",
   "language": "haskell",
   "name": "haskell"
  },
  "language_info": {
   "codemirror_mode": "ihaskell",
   "file_extension": ".hs",
   "mimetype": "text/x-haskell",
   "name": "haskell",
   "pygments_lexer": "Haskell",
   "version": "8.6.5"
  }
 },
 "nbformat": 4,
 "nbformat_minor": 4
}
