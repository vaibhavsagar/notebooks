{
 "cells": [
  {
   "cell_type": "code",
   "execution_count": 1,
   "metadata": {},
   "outputs": [],
   "source": [
    "import Data.List\n",
    "import Data.Hashable\n",
    "import Data.Function (on)\n",
    "import qualified Data.Map.Strict as Map"
   ]
  },
  {
   "cell_type": "code",
   "execution_count": 2,
   "metadata": {},
   "outputs": [
    {
     "data": {
      "text/plain": [
       " ↓ ↓ ↓ ↓ ↓ ↓ ↓ ↓ ↓ ↓ ↓ ↓ \n",
       "┌─┬─┬─┬─┬─┬─┬─┬─┬─┬─┬─┬─┐\n",
       "│0│1│3│4│5│2│4│5│2│4│5│2│\n",
       "└─┴─┴─┴─┴─┴─┴─┴─┴─┴─┴─┴─┘"
      ]
     },
     "metadata": {},
     "output_type": "display_data"
    }
   ],
   "source": [
    "formatArray arr = let\n",
    "    l = length arr\n",
    "    in unlines\n",
    "    [ \" \" <> concat (replicate l \"↓ \")\n",
    "    , \"┌\" <> concat (replicate (l-1) \"─┬\") <> \"─┐\"\n",
    "    , \"│\" <> intercalate \"│\" (map show arr) <> \"│\" \n",
    "    , \"└\" <> concat (replicate (l-1) \"─┴\") <> \"─┘\"\n",
    "    ]\n",
    "\n",
    "putStrLn $ formatArray [0,1,3,4,5,2,4,5,2,4,5,2]"
   ]
  },
  {
   "cell_type": "code",
   "execution_count": 3,
   "metadata": {},
   "outputs": [
    {
     "data": {
      "text/plain": [
       " ╭────────────────────────"
      ]
     },
     "metadata": {},
     "output_type": "display_data"
    },
    {
     "data": {
      "text/plain": [
       " │ ╭──────────────────────"
      ]
     },
     "metadata": {},
     "output_type": "display_data"
    },
    {
     "data": {
      "text/plain": [
       " │ │ ╭────────────────────"
      ]
     },
     "metadata": {},
     "output_type": "display_data"
    },
    {
     "data": {
      "text/plain": [
       " │ │ │ ╭──────────────────"
      ]
     },
     "metadata": {},
     "output_type": "display_data"
    },
    {
     "data": {
      "text/plain": [
       " │ │ │ │ ╭────────────────"
      ]
     },
     "metadata": {},
     "output_type": "display_data"
    },
    {
     "data": {
      "text/plain": [
       " │ │ │ │ │ ╭──────────────"
      ]
     },
     "metadata": {},
     "output_type": "display_data"
    },
    {
     "data": {
      "text/plain": [
       " │ │ │ │ │ │ ╭────────────"
      ]
     },
     "metadata": {},
     "output_type": "display_data"
    },
    {
     "data": {
      "text/plain": [
       " │ │ │ │ │ │ │ ╭──────────"
      ]
     },
     "metadata": {},
     "output_type": "display_data"
    },
    {
     "data": {
      "text/plain": [
       " │ │ │ │ │ │ │ │ ╭────────"
      ]
     },
     "metadata": {},
     "output_type": "display_data"
    },
    {
     "data": {
      "text/plain": [
       " │ │ │ │ │ │ │ │ │ ╭──────"
      ]
     },
     "metadata": {},
     "output_type": "display_data"
    },
    {
     "data": {
      "text/plain": [
       " │ │ │ │ │ │ │ │ │ │ ╭────"
      ]
     },
     "metadata": {},
     "output_type": "display_data"
    },
    {
     "data": {
      "text/plain": [
       " │ │ │ │ │ │ │ │ │ │ │ ╭──"
      ]
     },
     "metadata": {},
     "output_type": "display_data"
    },
    {
     "data": {
      "text/plain": [
       " ↓ ↓ ↓ ↓ ↓ ↓ ↓ ↓ ↓ ↓ ↓ ↓ \n",
       "┌─┬─┬─┬─┬─┬─┬─┬─┬─┬─┬─┬─┐\n",
       "│0│1│3│4│5│2│4│5│2│4│5│2│\n",
       "└─┴─┴─┴─┴─┴─┴─┴─┴─┴─┴─┴─┘"
      ]
     },
     "metadata": {},
     "output_type": "display_data"
    }
   ],
   "source": [
    "drawArrows len level = let\n",
    "    ls = len - level\n",
    "    in \" \" <> concat (replicate ls \"│ \") <> \"╭\" <> concat (replicate level \"──\")\n",
    "\n",
    "putStrLn $ drawArrows 12 12\n",
    "putStrLn $ drawArrows 12 11\n",
    "putStrLn $ drawArrows 12 10\n",
    "putStrLn $ drawArrows 12 9\n",
    "putStrLn $ drawArrows 12 8\n",
    "putStrLn $ drawArrows 12 7\n",
    "putStrLn $ drawArrows 12 6\n",
    "putStrLn $ drawArrows 12 5\n",
    "putStrLn $ drawArrows 12 4\n",
    "putStrLn $ drawArrows 12 3\n",
    "putStrLn $ drawArrows 12 2\n",
    "putStrLn $ drawArrows 12 1\n",
    "putStrLn $ formatArray [0,1,3,4,5,2,4,5,2,4,5,2]\n",
    "\n",
    "keys =\n",
    "    [ \"Bondi\"\n",
    "    , \"Tamarama\"\n",
    "    , \"Bronte\"\n",
    "    , \"Clovelly\"\n",
    "    , \"Gordons Bay\"\n",
    "    , \"Coogee\"\n",
    "    ]"
   ]
  },
  {
   "cell_type": "code",
   "execution_count": 19,
   "metadata": {},
   "outputs": [],
   "source": [
    "formatArrayVertical arr ann = let\n",
    "    boxed = intersperse \"├─┤\" $ zipWith (\\e an -> \"│\" ++ [e] ++ \"│\" ++ \" <- \" ++ show an) arr ann\n",
    "    in unlines $ [\"┌─┐\"] ++ boxed ++ [\"└─┘\"]"
   ]
  },
  {
   "cell_type": "code",
   "execution_count": 60,
   "metadata": {},
   "outputs": [
    {
     "data": {
      "text/plain": [
       "┌─┐\n",
       "│1│ <- [\"Bronte\"]\n",
       "├─┤\n",
       "│1│ <- [\"Gordons Bay\"]\n",
       "├─┤\n",
       "│0│ <- []\n",
       "├─┤\n",
       "│0│ <- []\n",
       "├─┤\n",
       "│0│ <- [\"Coogee\",\"Tamarama\"]\n",
       "├─┤\n",
       "│0│ <- []\n",
       "├─┤\n",
       "│1│ <- [\"Clovelly\"]\n",
       "├─┤\n",
       "│0│ <- []\n",
       "├─┤\n",
       "│1│ <- [\"Bondi\"]\n",
       "└─┘"
      ]
     },
     "metadata": {},
     "output_type": "display_data"
    }
   ],
   "source": [
    "displayLevel :: Hashable a => Int -> Double -> [a] -> (String, [[a]])\n",
    "displayLevel i gamma keys = let\n",
    "    size = floor $ fromIntegral (length keys) * gamma\n",
    "    level = Map.fromAscListWith (++) $ sortOn fst $ zip (map (\\k -> hashWithSalt i k `mod` size) keys) (map (:[]) keys)\n",
    "    levelAnn = map (\\i -> Map.findWithDefault [] i level) [0..(size - 1)]\n",
    "    levelArr = map (\\list -> if length list /= 1 then '0' else '1') levelAnn\n",
    "    in (levelArr, levelAnn)\n",
    "\n",
    "putStrLn $ uncurry formatArrayVertical $ displayLevel\n",
    "    0\n",
    "    1.5\n",
    "    [ \"Bondi\"\n",
    "    , \"Tamarama\"\n",
    "    , \"Bronte\"\n",
    "    , \"Clovelly\"\n",
    "    , \"Gordons Bay\"\n",
    "    , \"Coogee\"\n",
    "    ]"
   ]
  },
  {
   "cell_type": "code",
   "execution_count": 63,
   "metadata": {},
   "outputs": [
    {
     "data": {
      "text/plain": [
       "┌─┐\n",
       "│0│ <- [\"Coogee\",\"Tamarama\"]\n",
       "├─┤\n",
       "│0│ <- []\n",
       "├─┤\n",
       "│0│ <- []\n",
       "└─┘"
      ]
     },
     "metadata": {},
     "output_type": "display_data"
    }
   ],
   "source": [
    "putStrLn $ uncurry formatArrayVertical $ displayLevel\n",
    "    1\n",
    "    1.5\n",
    "    [ \"Tamarama\"\n",
    "    , \"Coogee\"\n",
    "    ]"
   ]
  },
  {
   "cell_type": "code",
   "execution_count": 64,
   "metadata": {},
   "outputs": [
    {
     "data": {
      "text/plain": [
       "┌─┐\n",
       "│1│ <- [\"Tamarama\"]\n",
       "├─┤\n",
       "│1│ <- [\"Coogee\"]\n",
       "├─┤\n",
       "│0│ <- []\n",
       "└─┘"
      ]
     },
     "metadata": {},
     "output_type": "display_data"
    }
   ],
   "source": [
    "putStrLn $ uncurry formatArrayVertical $ displayLevel\n",
    "    2\n",
    "    1.5\n",
    "    [ \"Tamarama\"\n",
    "    , \"Coogee\"\n",
    "    ]"
   ]
  },
  {
   "cell_type": "code",
   "execution_count": 65,
   "metadata": {},
   "outputs": [
    {
     "data": {
      "text/plain": [
       "┌─┐\n",
       "│0│ <- []\n",
       "├─┤\n",
       "│0│ <- [\"Coogee\",\"Clovelly\",\"Bronte\",\"Tamarama\"]\n",
       "├─┤\n",
       "│0│ <- []\n",
       "├─┤\n",
       "│0│ <- []\n",
       "└─┘"
      ]
     },
     "metadata": {},
     "output_type": "display_data"
    }
   ],
   "source": [
    "putStrLn $ uncurry formatArrayVertical $ displayLevel\n",
    "    3\n",
    "    1\n",
    "    [ \"Tamarama\"\n",
    "    , \"Bronte\"\n",
    "    , \"Clovelly\"\n",
    "    , \"Coogee\"\n",
    "    ]"
   ]
  },
  {
   "cell_type": "code",
   "execution_count": 51,
   "metadata": {},
   "outputs": [
    {
     "data": {
      "text/plain": [
       "┌─┐\n",
       "│0│ <- []\n",
       "├─┤\n",
       "│0│ <- []\n",
       "├─┤\n",
       "│0│ <- [\"Coogee\",\"Clovelly\",\"Bronte\",\"Tamarama\"]\n",
       "├─┤\n",
       "│0│ <- []\n",
       "└─┘"
      ]
     },
     "metadata": {},
     "output_type": "display_data"
    }
   ],
   "source": [
    "putStrLn $ uncurry formatArrayVertical $ displayLevel\n",
    "    4\n",
    "    [ \"Tamarama\"\n",
    "    , \"Bronte\"\n",
    "    , \"Clovelly\"\n",
    "    , \"Coogee\"\n",
    "    ]"
   ]
  },
  {
   "cell_type": "code",
   "execution_count": 53,
   "metadata": {},
   "outputs": [
    {
     "data": {
      "text/plain": [
       "┌─┐\n",
       "│0│ <- []\n",
       "├─┤\n",
       "│0│ <- []\n",
       "├─┤\n",
       "│0│ <- []\n",
       "├─┤\n",
       "│0│ <- [\"Coogee\",\"Clovelly\",\"Bronte\",\"Tamarama\"]\n",
       "└─┘"
      ]
     },
     "metadata": {},
     "output_type": "display_data"
    }
   ],
   "source": [
    "putStrLn $ uncurry formatArrayVertical $ displayLevel\n",
    "    5\n",
    "    [ \"Tamarama\"\n",
    "    , \"Bronte\"\n",
    "    , \"Clovelly\"\n",
    "    , \"Coogee\"\n",
    "    ]"
   ]
  },
  {
   "cell_type": "code",
   "execution_count": 54,
   "metadata": {},
   "outputs": [
    {
     "data": {
      "text/plain": [
       "┌─┐\n",
       "│0│ <- [\"Coogee\",\"Clovelly\",\"Bronte\",\"Tamarama\"]\n",
       "├─┤\n",
       "│0│ <- []\n",
       "├─┤\n",
       "│0│ <- []\n",
       "├─┤\n",
       "│0│ <- []\n",
       "└─┘"
      ]
     },
     "metadata": {},
     "output_type": "display_data"
    }
   ],
   "source": [
    "putStrLn $ uncurry formatArrayVertical $ displayLevel\n",
    "    6\n",
    "    [ \"Tamarama\"\n",
    "    , \"Bronte\"\n",
    "    , \"Clovelly\"\n",
    "    , \"Coogee\"\n",
    "    ]"
   ]
  },
  {
   "cell_type": "code",
   "execution_count": null,
   "metadata": {},
   "outputs": [
    {
     "data": {
      "text/plain": [
       " ╭────────────"
      ]
     },
     "metadata": {},
     "output_type": "display_data"
    },
    {
     "data": {
      "text/plain": [
       " │ ╭──────────"
      ]
     },
     "metadata": {},
     "output_type": "display_data"
    },
    {
     "data": {
      "text/plain": [
       " │ │ ╭────────"
      ]
     },
     "metadata": {},
     "output_type": "display_data"
    },
    {
     "data": {
      "text/plain": [
       " │ │ │ ╭──────"
      ]
     },
     "metadata": {},
     "output_type": "display_data"
    },
    {
     "data": {
      "text/plain": [
       " │ │ │ │ ╭────"
      ]
     },
     "metadata": {},
     "output_type": "display_data"
    },
    {
     "data": {
      "text/plain": [
       " │ │ │ │ │ ╭──"
      ]
     },
     "metadata": {},
     "output_type": "display_data"
    },
    {
     "data": {
      "text/plain": [
       " ↓ ↓ ↓ ↓ ↓ ↓ \n",
       "┌─┬─┬─┬─┬─┬─┐\n",
       "│0│0│0│0│0│0│\n",
       "└─┴─┴─┴─┴─┴─┘"
      ]
     },
     "metadata": {},
     "output_type": "display_data"
    }
   ],
   "source": [
    "putStrLn $ drawArrows 6 6\n",
    "putStrLn $ drawArrows 6 5\n",
    "putStrLn $ drawArrows 6 4\n",
    "putStrLn $ drawArrows 6 3\n",
    "putStrLn $ drawArrows 6 2\n",
    "putStrLn $ drawArrows 6 1\n",
    "putStrLn $ formatArray [0, 0, 0, 0, 0, 0]"
   ]
  }
 ],
 "metadata": {
  "kernelspec": {
   "display_name": "Haskell",
   "language": "haskell",
   "name": "haskell"
  },
  "language_info": {
   "codemirror_mode": "ihaskell",
   "file_extension": ".hs",
   "mimetype": "text/x-haskell",
   "name": "haskell",
   "pygments_lexer": "Haskell",
   "version": "9.4.8"
  }
 },
 "nbformat": 4,
 "nbformat_minor": 4
}
