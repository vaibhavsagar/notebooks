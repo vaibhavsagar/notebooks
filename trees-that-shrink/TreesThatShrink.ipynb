{
 "cells": [
  {
   "cell_type": "markdown",
   "metadata": {},
   "source": [
    "--------------------------------------------------------------------------------\n",
    "title: Trees That Shrink\n",
    "published: 2018-06-19\n",
    "tags: haskell, programming\n",
    "--------------------------------------------------------------------------------"
   ]
  },
  {
   "cell_type": "markdown",
   "metadata": {},
   "source": [
    "*This blog post is also available as an [IHaskell notebook](https://github.com/vaibhavsagar/notebooks/blob/master/trees-that-shrink/TreesThatShrink.ipynb).*\n",
    "\n",
    "I read [this paper](https://www.microsoft.com/en-us/research/wp-content/uploads/2016/11/trees-that-grow.pdf) a while ago and people seemed pretty excited about it, although I couldn't see why. Fortunately, someone posed me an interesting problem recently and in the process of tackling it I think I understand now.\n",
    "\n",
    "Suppose we have a simple algebraic data type representing the lambda calculus with [de Bruijn indices](https://en.wikipedia.org/wiki/De_Bruijn_index), which are a way of avoiding the messy problem of variable names:"
   ]
  },
  {
   "cell_type": "code",
   "execution_count": 1,
   "metadata": {},
   "outputs": [],
   "source": [
    "data Expr a\n",
    "    = Lit a\n",
    "    | Var Int\n",
    "    | Abs (Expr a)\n",
    "    | App (Expr a) (Expr a)\n",
    "    deriving (Show)"
   ]
  },
  {
   "cell_type": "markdown",
   "metadata": {},
   "source": [
    "So far so good! Now we want to have let bindings in this language, and we've decided that we want named variables as well while we're at it because de Bruijn indices are not so much fun to work with. We dutifully define another data type:"
   ]
  },
  {
   "cell_type": "code",
   "execution_count": 2,
   "metadata": {},
   "outputs": [],
   "source": [
    "data Expr' a\n",
    "    = Lit' a\n",
    "    | Var' String\n",
    "    | Abs' (Expr' a)\n",
    "    | App' (Expr' a) (Expr' a)\n",
    "    | Let' String (Expr' a) (Expr' a)\n",
    "    deriving (Show)"
   ]
  },
  {
   "cell_type": "markdown",
   "metadata": {},
   "source": [
    "Let bindings can be easily desugared into lambda abstractions as follows:\n",
    "\n",
    "```\n",
    "let <n> = <x> in <y> <=> (\\n -> y) x\n",
    "```\n",
    "\n",
    "which will help us to write a simpler evaluator. However, we'd also like to make sure the desugaring has been implemented correctly, perhaps by converting to some intermediate state where both the name and the correct de Bruijn index coexist peacefully. We have a couple of options, none of which are great:\n",
    "\n",
    "1. Define a third data type and then write an indexing pass that converts `Var String` to `Var (String, Int)` and then a desugaring pass that converts that to `Expr a`.\n",
    "2. Work entirely within the bigger data type, forget about indexing, and throw errors whenever a `Let` is encountered after a desugaring pass.\n",
    "3. Combine the desugaring and indexing passes into one, and forget about keeping track of the desugaring.\n",
    "\n",
    "Let's implement the third:"
   ]
  },
  {
   "cell_type": "code",
   "execution_count": 3,
   "metadata": {},
   "outputs": [],
   "source": [
    "import qualified Data.Map.Strict as Map\n",
    "\n",
    "type Env = Map.Map String Int\n",
    "\n",
    "desugarAndAnonymise :: Env -> Expr' a -> Expr a\n",
    "desugarAndAnonymise env expr = case expr of\n",
    "    Lit' a -> Lit a\n",
    "    Var' name -> Var (env Map.! name)\n",
    "    Abs' expr' -> let\n",
    "        env'  = Map.map succ env\n",
    "        in Abs (desugarAndAnonymise env' expr')\n",
    "    App' f x -> App (desugarAndAnonymise env f) (desugarAndAnonymise env x)\n",
    "    Let' n v expr' -> desugarAndAnonymise env (App' (Abs' expr') v)"
   ]
  },
  {
   "cell_type": "markdown",
   "metadata": {},
   "source": [
    "That wasn't a lot of fun to write, I have no idea if I did the conversion from names to indices correctly, and there's no easy way to check if I did.\n",
    "\n",
    "These problems are (barely) manageable in this case, but what if we want to add more syntax sugar or share this data type with other libraries that have different use cases? We'd either have to write variations on a theme over and over again or say goodbye to type safety. It also becomes harder and harder to decompose our functions into smaller ones that only do one thing. There has to be a better way!\n",
    "\n",
    "This is the subject of [Trees that Grow](https://www.microsoft.com/en-us/research/wp-content/uploads/2016/11/trees-that-grow.pdf) by Shayan Najd and Simon Peyton Jones. They noticed the need for this approach when looking at GHC's abstract syntax tree type but the idiom is generally applicable.\n",
    "\n",
    "The first insight is that defining different data types for each use case is the wrong approach. Conceptually all these data types are the same type, just with different annotations or decoration, and we should be able to define the base data type with enough extensibility to accommodate all the other use cases.\n",
    "\n",
    "The second insight is that we can use some of GHC's fancier features to ease the pain of working with this ridiculously extensible data type, such as type families and pattern synonyms.\n",
    "\n",
    "The third insight is that this can be made to work with other language features, such as generalised abstract data types and existentials! We won't use this here, but it's great to know that it's possible.\n",
    "\n",
    "Let's see how we can use it to solve our problem. The first thing to do is turn on some language extensions, as with anything moderately fun in Haskell:"
   ]
  },
  {
   "cell_type": "code",
   "execution_count": 4,
   "metadata": {},
   "outputs": [],
   "source": [
    "{-# LANGUAGE TypeFamilies      #-}\n",
    "{-# LANGUAGE PatternSynonyms   #-}"
   ]
  },
  {
   "cell_type": "markdown",
   "metadata": {},
   "source": [
    "The next steps are:\n",
    "\n",
    "1. Add a type parameter to the data type declaration.\n",
    "2. Add a field to each constructor with a new data type that uses this parameter (and any others).\n",
    "3. Add an extra constructor to enable extending this data type, also with a new data type as in step 2.\n",
    "4. Define type families for each of the new data types you declared in steps 2 and 3.\n",
    "\n",
    "And we're done! This is what that looks like for our example:"
   ]
  },
  {
   "cell_type": "code",
   "execution_count": null,
   "metadata": {},
   "outputs": [],
   "source": [
    "data ExpX i a\n",
    "    = LitX (XLit i a) a\n",
    "    | VarX (XVar i a)\n",
    "    | AbsX (XAbs i a) (ExpX i a)\n",
    "    | AppX (XApp i a) (ExpX i a) (ExpX i a)\n",
    "    | ExpX (XExp i a)\n",
    "\n",
    "type family XLit i a\n",
    "type family XVar i a\n",
    "type family XAbs i a\n",
    "type family XApp i a\n",
    "type family XExp i a"
   ]
  },
  {
   "cell_type": "markdown",
   "metadata": {},
   "source": [
    "The next thing to do is to reconstruct our original data type with no extensions. To do this we'll need to use the [`Data.Void`](http://hackage.haskell.org/package/base/docs/Data-Void.html) package:"
   ]
  },
  {
   "cell_type": "code",
   "execution_count": null,
   "metadata": {},
   "outputs": [],
   "source": [
    "import Data.Void\n",
    "\n",
    "void :: Void\n",
    "void = error \"Attempt to evaluate void\""
   ]
  },
  {
   "cell_type": "markdown",
   "metadata": {},
   "source": [
    "Now we can define `ExpUD` (UD for \"undecorated\") using `Int` for our `Var` like we originally wanted and `Void` for all other extension points. It might get frustrating to construct and work with these values by hand, so we can use pattern synonyms to ease this pain."
   ]
  },
  {
   "cell_type": "code",
   "execution_count": null,
   "metadata": {},
   "outputs": [],
   "source": [
    "type ExpUD a = ExpX UD a\n",
    "data UD\n",
    "type instance XLit UD a = Void\n",
    "type instance XVar UD a = Int\n",
    "type instance XAbs UD a = Void\n",
    "type instance XApp UD a = Void\n",
    "type instance XExp UD a = Void\n",
    "\n",
    "pattern LitUD :: a -> ExpUD a\n",
    "pattern LitUD a <- LitX _ a\n",
    "    where LitUD a = LitX void a\n",
    "pattern VarUD :: Int -> ExpUD a\n",
    "pattern VarUD i <- VarX i\n",
    "    where VarUD i = VarX i\n",
    "pattern AbsUD :: ExpUD a -> ExpUD a\n",
    "pattern AbsUD a <- AbsX _ a\n",
    "    where AbsUD a = AbsX void a\n",
    "pattern AppUD :: ExpUD a -> ExpUD a -> ExpUD a\n",
    "pattern AppUD f a <- AppX _ f a\n",
    "    where AppUD f a = AppX void f a"
   ]
  },
  {
   "cell_type": "markdown",
   "metadata": {},
   "source": [
    "This is unfortunately a bit boilerplate-y, but now we can define that intermediate data type that uses named variables as well as de Bruijn indices! As a bonus, we can now have named parameters to lambdas, which would not have been possible with the approach we tried to use above."
   ]
  },
  {
   "cell_type": "code",
   "execution_count": null,
   "metadata": {},
   "outputs": [],
   "source": [
    "type ExpAnn a = ExpX Ann a\n",
    "data Ann\n",
    "type instance XLit Ann a = Void\n",
    "type instance XVar Ann a = (String, Int)\n",
    "type instance XAbs Ann a = String\n",
    "type instance XApp Ann a = Void\n",
    "type instance XExp Ann a = Void\n",
    "\n",
    "pattern LitAnn :: a -> ExpAnn a\n",
    "pattern LitAnn a <- LitX _ a\n",
    "    where LitAnn a = LitX void a\n",
    "pattern VarAnn :: String -> Int -> ExpAnn a\n",
    "pattern VarAnn s i <- VarX (s,i)\n",
    "    where VarAnn s i = VarX (s, i)\n",
    "pattern AbsAnn :: String -> ExpAnn a -> ExpAnn a\n",
    "pattern AbsAnn s a <- AbsX s a\n",
    "    where AbsAnn s a = AbsX s a\n",
    "pattern AppAnn :: ExpAnn a -> ExpAnn a -> ExpAnn a\n",
    "pattern AppAnn f a <- AppX _ f a\n",
    "    where AppAnn f a = AppX void f a"
   ]
  },
  {
   "cell_type": "markdown",
   "metadata": {},
   "source": [
    "Now for my favourite part, where we add let bindings! We achieve this by using a tuple to represent `let <name> = <expr> in <expr>` as `(<name>, <expr>, <expr>)`, and we use named variables and parameters in this representation."
   ]
  },
  {
   "cell_type": "code",
   "execution_count": null,
   "metadata": {},
   "outputs": [],
   "source": [
    "type ExpLet a = ExpX Let a\n",
    "data Let\n",
    "type instance XLit Let a = Void\n",
    "type instance XVar Let a = String\n",
    "type instance XAbs Let a = String\n",
    "type instance XApp Let a = Void\n",
    "type instance XExp Let a = (String, ExpLet a, ExpLet a)\n",
    "\n",
    "pattern LitLet :: a -> ExpLet a\n",
    "pattern LitLet a <- LitX _ a\n",
    "    where LitLet a = LitX void a\n",
    "pattern VarLet :: String -> ExpLet a\n",
    "pattern VarLet s <- VarX s\n",
    "    where VarLet s = VarX s\n",
    "pattern AbsLet :: String -> ExpLet a -> ExpLet a\n",
    "pattern AbsLet s a <- AbsX s a\n",
    "    where AbsLet s a = AbsX s a\n",
    "pattern AppLet :: ExpLet a -> ExpLet a -> ExpLet a\n",
    "pattern AppLet f a <- AppX _ f a\n",
    "    where AppLet f a = AppX void f a\n",
    "pattern LetLet n v e <- ExpX (n,v,e)"
   ]
  },
  {
   "cell_type": "markdown",
   "metadata": {},
   "source": [
    "Now instead of writing a single giant pass, we can write smaller ones!\n",
    "\n",
    "We can write a desugarer that preserves names and rewrites our let bindings as follows:"
   ]
  },
  {
   "cell_type": "code",
   "execution_count": null,
   "metadata": {},
   "outputs": [],
   "source": [
    "desugar :: Env -> ExpLet a -> ExpAnn a\n",
    "desugar env expr = case expr of\n",
    "    LitLet a -> LitAnn a\n",
    "    VarLet name -> VarAnn name (env Map.! name)\n",
    "    AbsLet name expr' -> let\n",
    "        env'  = Map.map succ env\n",
    "        env'' = Map.insert name 0 env'\n",
    "        in AbsAnn name (desugar env'' expr')\n",
    "    AppLet f x -> AppAnn (desugar env f) (desugar env x)\n",
    "    LetLet n v expr' -> desugar env (AppLet (AbsLet n expr') v)"
   ]
  },
  {
   "cell_type": "markdown",
   "metadata": {},
   "source": [
    "We can also write an anonymiser that throws the names away:"
   ]
  },
  {
   "cell_type": "code",
   "execution_count": null,
   "metadata": {},
   "outputs": [],
   "source": [
    "anonymise :: ExpAnn a -> ExpUD a\n",
    "anonymise expr = case expr of\n",
    "    LitAnn a -> LitUD a\n",
    "    VarAnn _ i -> VarUD i\n",
    "    AbsAnn _ e -> AbsUD (anonymise e)\n",
    "    AppAnn f x -> AppUD (anonymise f) (anonymise x)"
   ]
  },
  {
   "cell_type": "markdown",
   "metadata": {},
   "source": [
    "And finally an evaluator that operates on undecorated expressions:"
   ]
  },
  {
   "cell_type": "code",
   "execution_count": null,
   "metadata": {},
   "outputs": [],
   "source": [
    "eval :: [a] -> ExpUD a -> a\n",
    "eval env expr = case expr of\n",
    "    LitUD a -> a\n",
    "    VarUD i -> env !! i\n",
    "    AbsUD f -> eval env f\n",
    "    AppUD f x -> let\n",
    "        x' = eval env x\n",
    "        in eval (env ++ [x']) f"
   ]
  },
  {
   "cell_type": "markdown",
   "metadata": {},
   "source": [
    "Let's see it in action!"
   ]
  },
  {
   "cell_type": "code",
   "execution_count": null,
   "metadata": {},
   "outputs": [
    {
     "data": {
      "text/plain": [
       "1"
      ]
     },
     "metadata": {},
     "output_type": "display_data"
    }
   ],
   "source": [
    "identity = AbsLet \"i\" (VarLet \"i\")\n",
    "konst = AbsLet \"x\" (AbsLet \"y\" (VarLet \"x\"))\n",
    "\n",
    "eval [] . anonymise . desugar Map.empty $ AppLet (AppLet konst (LitLet 1)) (LitLet 2)"
   ]
  },
  {
   "cell_type": "markdown",
   "metadata": {},
   "source": [
    "Awesome! We have composable compiler passes that are easier to write and to think about. Even with this small example, I hope the benefits are clear."
   ]
  },
  {
   "cell_type": "markdown",
   "metadata": {},
   "source": [
    "Edit: [Edward Kmett points out](https://www.reddit.com/r/haskell/comments/8s75n3/trees_that_shrink/e0x8se2) that using `Void` makes this approach unnecessarily footgun-prone and suggests using strict fields and `()` instead. This allows for simpler pattern synonyms and comes with the additional benefit that we can disable constructors with `Void` so we can actually have trees that shrink:"
   ]
  },
  {
   "cell_type": "code",
   "execution_count": null,
   "metadata": {},
   "outputs": [],
   "source": [
    "data ExpX i a\n",
    "    = LitX !(XLit i a) a\n",
    "    | VarX !(XVar i a)\n",
    "    | AbsX !(XAbs i a) (ExpX i a)\n",
    "    | AppX !(XApp i a) (ExpX i a) (ExpX i a)\n",
    "    | ExpX !(XExp i a)\n",
    "\n",
    "type family XLit i a\n",
    "type family XVar i a\n",
    "type family XAbs i a\n",
    "type family XApp i a\n",
    "type family XExp i a\n",
    "\n",
    "type ExpUD a = ExpX UD a\n",
    "data UD\n",
    "type instance XLit UD a = ()\n",
    "type instance XVar UD a = Int\n",
    "type instance XAbs UD a = ()\n",
    "type instance XApp UD a = ()\n",
    "type instance XExp UD a = Void\n",
    "\n",
    "pattern LitUD :: a -> ExpUD a\n",
    "pattern LitUD a = LitX () a\n",
    "pattern VarUD :: Int -> ExpUD a\n",
    "pattern VarUD i = VarX i\n",
    "pattern AbsUD :: ExpUD a -> ExpUD a\n",
    "pattern AbsUD a = AbsX () a\n",
    "pattern AppUD :: ExpUD a -> ExpUD a -> ExpUD a\n",
    "pattern AppUD f a = AppX () f a\n",
    "\n",
    "type ExpAnn a = ExpX Ann a\n",
    "data Ann\n",
    "type instance XLit Ann a = ()\n",
    "type instance XVar Ann a = (String, Int)\n",
    "type instance XAbs Ann a = String\n",
    "type instance XApp Ann a = ()\n",
    "type instance XExp Ann a = Void\n",
    "\n",
    "pattern LitAnn :: a -> ExpAnn a\n",
    "pattern LitAnn a = LitX () a\n",
    "pattern VarAnn :: String -> Int -> ExpAnn a\n",
    "pattern VarAnn s i = VarX (s, i)\n",
    "pattern AbsAnn :: String -> ExpAnn a -> ExpAnn a\n",
    "pattern AbsAnn s a = AbsX s a\n",
    "pattern AppAnn :: ExpAnn a -> ExpAnn a -> ExpAnn a\n",
    "pattern AppAnn f a = AppX () f a\n",
    "\n",
    "type ExpLet a = ExpX Let a\n",
    "data Let\n",
    "type instance XLit Let a = ()\n",
    "type instance XVar Let a = String\n",
    "type instance XAbs Let a = String\n",
    "type instance XApp Let a = ()\n",
    "type instance XExp Let a = (String, ExpLet a, ExpLet a)\n",
    "\n",
    "pattern LitLet :: a -> ExpLet a\n",
    "pattern LitLet a = LitX () a\n",
    "pattern VarLet :: String -> ExpLet a\n",
    "pattern VarLet s = VarX s\n",
    "pattern AbsLet :: String -> ExpLet a -> ExpLet a\n",
    "pattern AbsLet s a = AbsX s a\n",
    "pattern AppLet :: ExpLet a -> ExpLet a -> ExpLet a\n",
    "pattern AppLet f a = AppX () f a\n",
    "pattern LetLet n v e <- ExpX (n,v,e)"
   ]
  },
  {
   "cell_type": "markdown",
   "metadata": {},
   "source": [
    "The definitions of `desugar`, `anonymise`, and `eval` are unchanged."
   ]
  },
  {
   "cell_type": "markdown",
   "metadata": {},
   "source": [
    "Thanks to [Andy Chu](http://andychu.net/) and [Peter Bhat Harkins](https://push.cx/) for comments and feedback."
   ]
  }
 ],
 "metadata": {
  "kernelspec": {
   "display_name": "Haskell",
   "language": "haskell",
   "name": "haskell"
  },
  "language_info": {
   "codemirror_mode": "ihaskell",
   "file_extension": ".hs",
   "mimetype": "text/x-haskell",
   "name": "haskell",
   "pygments_lexer": "Haskell",
   "version": "9.4.8"
  }
 },
 "nbformat": 4,
 "nbformat_minor": 4
}
