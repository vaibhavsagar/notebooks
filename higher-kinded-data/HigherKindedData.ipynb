{
 "cells": [
  {
   "cell_type": "code",
   "execution_count": 1,
   "id": "ce68b639",
   "metadata": {},
   "outputs": [],
   "source": [
    "import Data.Validation"
   ]
  },
  {
   "cell_type": "code",
   "execution_count": 2,
   "id": "6c4a4cac",
   "metadata": {},
   "outputs": [],
   "source": [
    "data Food = Food\n",
    "    { eggs :: String\n",
    "    , ham :: Int\n",
    "    , cheese :: String\n",
    "    } deriving (Eq, Show)\n",
    "    \n",
    "data FoodParser a = FoodParser\n",
    "    { eggsP :: a String\n",
    "    , hamP :: a Int\n",
    "    , cheeseP :: a String\n",
    "    }"
   ]
  },
  {
   "cell_type": "code",
   "execution_count": 3,
   "id": "17496a8a",
   "metadata": {},
   "outputs": [],
   "source": [
    "mkFood :: Applicative a => FoodParser a -> a Food\n",
    "mkFood (FoodParser aEggs aHam aCheese) = Food <$> aEggs <*> aHam <*> aCheese"
   ]
  },
  {
   "cell_type": "code",
   "execution_count": 4,
   "id": "2ffcc166",
   "metadata": {},
   "outputs": [],
   "source": [
    "example :: FoodParser Maybe\n",
    "example = FoodParser (Just \"sunny side up\") (Just 2) (Just \"gruyere\")"
   ]
  },
  {
   "cell_type": "code",
   "execution_count": 5,
   "id": "d824ea8f",
   "metadata": {},
   "outputs": [
    {
     "data": {
      "text/plain": [
       "Just (Food {eggs = \"sunny side up\", ham = 2, cheese = \"gruyere\"})"
      ]
     },
     "metadata": {},
     "output_type": "display_data"
    }
   ],
   "source": [
    "mkFood example"
   ]
  },
  {
   "cell_type": "code",
   "execution_count": 6,
   "id": "a84ebd8a",
   "metadata": {},
   "outputs": [],
   "source": [
    "example2 :: FoodParser (Validation [String])\n",
    "example2 = FoodParser (Success \"sunny side up\") (Failure [\"not a number\"]) (Failure [\"'pink' is not a valid cheese type\"])"
   ]
  },
  {
   "cell_type": "code",
   "execution_count": 7,
   "id": "d31f78d5",
   "metadata": {},
   "outputs": [
    {
     "data": {
      "text/plain": [
       "Failure [\"not a number\",\"'pink' is not a valid cheese type\"]"
      ]
     },
     "metadata": {},
     "output_type": "display_data"
    }
   ],
   "source": [
    "mkFood example2"
   ]
  },
  {
   "cell_type": "code",
   "execution_count": 8,
   "id": "90c7ea34",
   "metadata": {},
   "outputs": [],
   "source": [
    "example3 :: FoodParser (Either [String])\n",
    "example3 = FoodParser (Right \"sunny side up\") (Left [\"not a number\"]) (Left [\"'pink' is not a valid cheese type\"])"
   ]
  },
  {
   "cell_type": "code",
   "execution_count": null,
   "id": "18484bcc",
   "metadata": {},
   "outputs": [
    {
     "data": {
      "text/plain": [
       "Left [\"not a number\"]"
      ]
     },
     "metadata": {},
     "output_type": "display_data"
    }
   ],
   "source": [
    "mkFood example3"
   ]
  }
 ],
 "metadata": {
  "kernelspec": {
   "display_name": "Haskell",
   "language": "haskell",
   "name": "haskell"
  },
  "language_info": {
   "codemirror_mode": "ihaskell",
   "file_extension": ".hs",
   "mimetype": "text/x-haskell",
   "name": "haskell",
   "pygments_lexer": "Haskell",
   "version": "9.4.8"
  }
 },
 "nbformat": 4,
 "nbformat_minor": 5
}
