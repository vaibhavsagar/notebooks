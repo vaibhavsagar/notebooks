{
 "cells": [
  {
   "cell_type": "code",
   "execution_count": null,
   "id": "85ed940f-117b-41ed-8c61-ae79018434cb",
   "metadata": {},
   "outputs": [],
   "source": [
    "import Control.Monad.Trans.Class\n",
    "import Control.Monad.Trans.Cont\n",
    "import Data.Function (fix)\n",
    "\n",
    "import Data.IORef\n",
    "\n",
    "setjmp = callCC $ return . fix\n",
    "\n",
    "main = flip runContT return $ do\n",
    "    lift $ putStrLn \"alpha\"\n",
    "    x <- lift $ newIORef 0\n",
    "    jmp <- setjmp\n",
    "    lift $ putStrLn \"beta\"          -- k\n",
    "    lift $ putStrLn \"gamma\"         -- j\n",
    "    value <- lift $ readIORef x\n",
    "    if value < 4\n",
    "        then do\n",
    "            lift $ modifyIORef' x (+1)\n",
    "            jmp\n",
    "        else return value"
   ]
  },
  {
   "cell_type": "code",
   "execution_count": null,
   "id": "a4ee3ce8-7a14-4666-b968-c2bd9a917e95",
   "metadata": {},
   "outputs": [
    {
     "data": {
      "text/plain": [
       "alpha\n",
       "beta\n",
       "gamma\n",
       "beta\n",
       "gamma\n",
       "beta\n",
       "gamma\n",
       "beta\n",
       "gamma\n",
       "beta\n",
       "gamma\n",
       "4"
      ]
     },
     "metadata": {},
     "output_type": "display_data"
    }
   ],
   "source": [
    "main"
   ]
  }
 ],
 "metadata": {
  "kernelspec": {
   "display_name": "Haskell",
   "language": "haskell",
   "name": "haskell"
  },
  "language_info": {
   "codemirror_mode": "ihaskell",
   "file_extension": ".hs",
   "mimetype": "text/x-haskell",
   "name": "haskell",
   "pygments_lexer": "Haskell",
   "version": "9.6.5"
  }
 },
 "nbformat": 4,
 "nbformat_minor": 5
}
